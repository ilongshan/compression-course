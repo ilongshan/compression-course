{
 "cells": [
  {
   "cell_type": "markdown",
   "metadata": {},
   "source": [
    "# Методы сжатия и обработки видео"
   ]
  },
  {
   "cell_type": "markdown",
   "metadata": {},
   "source": [
    "Полезные ссылки:\n",
    "* [Github](https://github.com/msu-video-group/compression-course )\n",
    "* [Anytask](https://anytask.org/course/587)\n",
    "* [Telegram-канал](https://t.me/joinchat/AAAAAFCfuYvBieyk-2SyyQ)\n",
    "* [Документация pybind](https://pybind11.readthedocs.io/en/master/)\n",
    "\n",
    "Понадобится для работы:\n",
    "* Pybind11: `conda install -c conda-forge pybind11` (если у вас [Anaconda](www.anaconda.com) или `pip install pybind11`)\n",
    "* Opencv2: `conda install -c conda-forge opencv` или `pip install opencv-python`) \n",
    "* C++ компилятор  \n",
    "\n",
    "*Если у вас не заработало что-то, смело пишите в чатик курса*"
   ]
  },
  {
   "cell_type": "markdown",
   "metadata": {},
   "source": [
    "## Задание 3. Motion Estimation ##"
   ]
  },
  {
   "cell_type": "markdown",
   "metadata": {},
   "source": [
    "Шаблон для выполнения задания состоит из нескольких частей\n",
    "\n",
    "1. Библиотека ME на C/C++, компилируемая для использования в python-коде. В основном писать код вам придётся именно в библиотеке. Чтобы скомпилировать библиотеку, запустите команду `python3 setup.py build_ext -i` в  корне папки с заданием. *Замечание. Это библиотека компилируется под C++, но внутри вам ничего не мешает писать код на чистом C.*\n",
    "2. Ipython notebook для тестирования библиотеки. Используйте этот код для оценки качества работы программы и её улучшения."
   ]
  },
  {
   "cell_type": "markdown",
   "metadata": {},
   "source": [
    "### 1. Основная часть ###"
   ]
  },
  {
   "cell_type": "markdown",
   "metadata": {},
   "source": [
    "Оценка качества работы алгоритма будет производиться следующим образом: на основе поля ME между двумя кадрами будет построен восстановленный кадр. Для оценивания качества будет использоваться PSNR между восстановленным и исходным кадром:"
   ]
  },
  {
   "cell_type": "markdown",
   "metadata": {},
   "source": [
    "<img src=\"images/me_example.png\">"
   ]
  },
  {
   "cell_type": "markdown",
   "metadata": {},
   "source": [
    "<img src=\"images/how_it_works.png\">"
   ]
  },
  {
   "cell_type": "markdown",
   "metadata": {},
   "source": [
    "Кроме того, ещё одним параметром работы будет являться **скорость работы**."
   ]
  },
  {
   "cell_type": "code",
   "execution_count": null,
   "metadata": {},
   "outputs": [],
   "source": [
    "# Импортируем нужные библиотеки\n",
    "import cv2\n",
    "import time\n",
    "import numpy as np\n",
    "from tqdm import tqdm_notebook\n",
    "import matplotlib.pyplot as plt\n",
    "import seaborn as sns\n",
    "import importlib\n",
    "%matplotlib inline"
   ]
  },
  {
   "cell_type": "code",
   "execution_count": null,
   "metadata": {},
   "outputs": [],
   "source": [
    "#Библиотека для чтения видео\n",
    "class VideoReader:\n",
    "    def __init__(self, path):\n",
    "        self.cap = cv2.VideoCapture(path)\n",
    "        self.height = int(self.cap.get(4))\n",
    "        self.width = int(self.cap.get(3))\n",
    "    \n",
    "    def __iter__(self):\n",
    "        while(self.cap.isOpened()):\n",
    "            ret, frame = self.cap.read()\n",
    "            if ret == False:\n",
    "                break\n",
    "            yield frame\n",
    "    \n",
    "    def height(self):\n",
    "        return self.heigth\n",
    "    \n",
    "    def width(self):\n",
    "        return self.width\n",
    "    \n",
    "    def __del__(self):\n",
    "        self.cap.release()\n",
    "\n",
    "def generate_pair_frames_gray(video):\n",
    "    prev_frame = None\n",
    "    for frame in video:\n",
    "        frame = cv2.cvtColor(frame, cv2.COLOR_RGB2GRAY)\n",
    "        if prev_frame is None:\n",
    "            prev_frame = frame\n",
    "        else:\n",
    "            yield prev_frame, frame\n",
    "            prev_frame = frame"
   ]
  },
  {
   "cell_type": "code",
   "execution_count": null,
   "metadata": {},
   "outputs": [],
   "source": [
    "def show_pair_frames(compensated_frame, frame, psnr_value):\n",
    "    fig = plt.figure(figsize=(16,7))\n",
    "    plt.suptitle('Значение PSNR: {:.4f}'.format(psnr_value), fontsize=24)\n",
    "    ax = fig.add_subplot(1, 2, 1)\n",
    "    ax.imshow(compensated_frame, cmap='gray')\n",
    "    ax.set_title(\"Скомпенсированный кадр\", fontsize=18)\n",
    "    ax.set_xticks([])\n",
    "    ax.set_yticks([])\n",
    "    ax = fig.add_subplot(1, 2, 2)\n",
    "    ax.imshow(frame, cmap='gray')\n",
    "    ax.set_title(\"Текущий кадр\", fontsize=18)\n",
    "    ax.set_xticks([])\n",
    "    ax.set_yticks([])"
   ]
  },
  {
   "cell_type": "code",
   "execution_count": null,
   "metadata": {},
   "outputs": [],
   "source": [
    "# Простая функция для тестирования ME.\n",
    "from skimage.measure import compare_ssim, compare_psnr\n",
    "def test_me(source_video, me, return_frames=False, result_path=None):\n",
    "    ssim = []\n",
    "    psnr = []\n",
    "    speed = []\n",
    "    compensated_frames = []\n",
    "    source_frames = []\n",
    "    out_video = None\n",
    "    if result_path is not None:\n",
    "        out_video = cv2.VideoWriter(\n",
    "            result_path,\n",
    "            cv2.VideoWriter_fourcc(*'MP4V'),\n",
    "            10,\n",
    "            (source_video.width, source_video.height * 2)\n",
    "        )\n",
    "     \n",
    "    pbar = tqdm_notebook(generate_pair_frames_gray(source_video))\n",
    "    for frame, prev_frame in pbar:\n",
    "        start = time.time()\n",
    "        result = me.Estimate(frame, prev_frame) # Запускаем me\n",
    "        end = time.time()\n",
    "        speed.append((end - start) * 1000)\n",
    "        compensated_frame = result.Remap(prev_frame) # Скомпенсированный кадр лежит тут. Полезно для дебага его отсюда доставать и рассматривать.\n",
    "        \n",
    "        ssim.append(compare_ssim(frame, compensated_frame, multichannel=False))\n",
    "        psnr.append(compare_psnr(frame, compensated_frame))\n",
    "        if return_frames:\n",
    "            compensated_frames.append(compensated_frame)\n",
    "            source_frames.append(frame)\n",
    "        \n",
    "        \n",
    "        pbar.set_description('PSNR: {:.2f}; Time(ms): {:.2f}; SSIM: {:.2f}.'.format(np.mean(psnr), np.mean(speed), np.mean(ssim)))\n",
    "        \n",
    "        if out_video is not None:\n",
    "            out_video.write(cv2.cvtColor(np.vstack([frame, compensated_frame]), cv2.COLOR_GRAY2BGR))\n",
    "    if out_video is not None:\n",
    "        out_video.release()\n",
    "        \n",
    "    return {\n",
    "        'ssim': ssim,\n",
    "        'psnr': psnr,\n",
    "        'speed': speed,\n",
    "        'compensated_frames': compensated_frames,\n",
    "        'source_frames': source_frames\n",
    "    }"
   ]
  },
  {
   "cell_type": "code",
   "execution_count": null,
   "metadata": {},
   "outputs": [],
   "source": [
    "import me_estimator"
   ]
  },
  {
   "cell_type": "markdown",
   "metadata": {},
   "source": [
    "**Если вы делали какие-то изменения, то не забудьте перезагрузить модуль. Для этого нажмите Kernel->Restart**"
   ]
  },
  {
   "cell_type": "markdown",
   "metadata": {},
   "source": [
    "Чтобы проверить, как работет библиотека, давайте проверим его на одной последовательности на самом хорошем качестве.  \n",
    "*То, что Ваше ME будет по качеству работать хуже полного перебора - это норма. Ваша задача - достаточно сильно ускорить ME, он должен работать ориентировочно за 5-10 мс на кадр. Ориентировочная точка - одно из самых лучших решений прошлого года на среднем ноутбуке показало **5.06ms и 35.1 psnr** на качестве 100.*"
   ]
  },
  {
   "cell_type": "code",
   "execution_count": null,
   "metadata": {},
   "outputs": [],
   "source": [
    "video = VideoReader('video/source.avi')\n",
    "me = me_estimator.MotionEstimator(video.width, video.height, 100, False)\n",
    "# На данный момент в me_estimator реализован полный перебор - смотреть MotionEstimator::CEstimate\n",
    "result = test_me(video, me, True, 'result.mp4') # В result.mp4 сохраняем скомпенсированное видео, также в result будут лежать кадры"
   ]
  },
  {
   "cell_type": "markdown",
   "metadata": {},
   "source": [
    "Посмотрим на то, как компенсируется произвольный кадр:"
   ]
  },
  {
   "cell_type": "code",
   "execution_count": null,
   "metadata": {},
   "outputs": [],
   "source": [
    "frame_idx = 21\n",
    "show_pair_frames(\n",
    "    result['compensated_frames'][frame_idx],\n",
    "    result['source_frames'][frame_idx],\n",
    "    result['psnr'][frame_idx]\n",
    ")"
   ]
  },
  {
   "cell_type": "markdown",
   "metadata": {},
   "source": [
    "Примером ниже можно посмотреть графики, как покадрово работает ваш алгоритм. "
   ]
  },
  {
   "cell_type": "code",
   "execution_count": null,
   "metadata": {
    "scrolled": false
   },
   "outputs": [],
   "source": [
    "import matplotlib.pyplot as plt\n",
    "%matplotlib inline\n",
    "import seaborn as sns\n",
    "sns.set(\"notebook\")\n",
    "plt.figure(figsize=(12, 6))\n",
    "fig, (ax1, ax2, ax3) = plt.subplots(1, 3, figsize=(16, 4))\n",
    "\n",
    "ax1.plot(result['ssim'])\n",
    "ax1.set_title('SSIM: {}'.format(np.mean(result['ssim'])))\n",
    "ax2.plot(result['psnr'])\n",
    "ax2.set_title('PSNR: {}'.format(np.mean(result['psnr'])))\n",
    "ax3.plot(result['speed'])\n",
    "ax3.set_title('Time: {}'.format(np.mean(result['speed'])));"
   ]
  },
  {
   "cell_type": "code",
   "execution_count": null,
   "metadata": {},
   "outputs": [],
   "source": [
    "import pandas as pd\n",
    "\n",
    "def test_all_me(video_paths=['source.avi'], qualities=[100, 80, 60, 40, 20], halfpixels=[False, True]):\n",
    "    result = []\n",
    "    for video_path in video_paths:\n",
    "        for halfpixel in halfpixels:\n",
    "            for quality in qualities:\n",
    "                video = VideoReader(video_path)\n",
    "                me = me_estimator.MotionEstimator(video.width, video.height, quality, halfpixel)\n",
    "                metrics = test_me(video, me)\n",
    "                result.append(\n",
    "                    {\n",
    "                        'video': video_path,\n",
    "                        'halfpixel': halfpixel,\n",
    "                        'quality': quality,\n",
    "                        **{\n",
    "                            key: np.mean(metrics[key])\n",
    "                            for key in metrics\n",
    "                        }\n",
    "                    }\n",
    "                )\n",
    "    return pd.DataFrame(result)"
   ]
  },
  {
   "cell_type": "code",
   "execution_count": null,
   "metadata": {
    "scrolled": false
   },
   "outputs": [],
   "source": [
    "result_all = test_all_me(\n",
    "    video_paths=['video/source.avi'],\n",
    "    qualities=[100],# 80, 60, 40, 20],\n",
    "    halfpixels=[False]#, True]\n",
    ")"
   ]
  },
  {
   "cell_type": "code",
   "execution_count": null,
   "metadata": {},
   "outputs": [],
   "source": [
    "result_all"
   ]
  },
  {
   "cell_type": "code",
   "execution_count": null,
   "metadata": {},
   "outputs": [],
   "source": [
    "fig, axes = plt.subplots(1, len(result_all['video'].unique()), figsize=(16, 4))\n",
    "if len(result_all['video'].unique()) == 1:\n",
    "    axes = [axes]\n",
    "for ax, video in zip(axes, result_all['video'].unique()):\n",
    "    sns.lineplot(x='speed', y='psnr', style='halfpixel', markers=True, data=result_all[result_all.video == video], ax=ax)"
   ]
  },
  {
   "cell_type": "markdown",
   "metadata": {},
   "source": [
    "## 2. Красивый вид кривых скорость/качество ##"
   ]
  },
  {
   "cell_type": "markdown",
   "metadata": {},
   "source": [
    "*Это бонусное задание, за него вы получите баллы независимо от результатов в конкурсе*\n",
    "\n",
    "Что хочется увидеть: у ME есть два ключевых параметра, определяющих его \"хорошесть\" - это скорость работы и качество сопоставления. Очевидно, можно написать метод, который делает полный перебор - он будет лучшим по качеству, но медленным, или наоборот - ничего не сопоставляем: ужасное качество, но замечательная скорость, Хочется, чтобы ваш алгоритм позволял варьировать скорость и качество и не уходил в такие крайности. Ниже пример кривых, которые были в прошлом году - хочется, чтобы форма кривых была как можно ближе к синей c треугольниками:"
   ]
  },
  {
   "cell_type": "markdown",
   "metadata": {},
   "source": [
    "<img src=\"images/curves.png\">"
   ]
  },
  {
   "cell_type": "markdown",
   "metadata": {},
   "source": [
    "## 3. Опиши что было сделано##"
   ]
  },
  {
   "cell_type": "markdown",
   "metadata": {},
   "source": [
    "*Это тоже небольшое бонусное задание*  \n",
    "Пожалуйста, опиши (кратко) суть твоего алгоритма, какие алгоритмы за основу ты взял и что решил улучшить.  \n",
    "Также было бы неплохо, если ты приложишь графики, которые показывают, как каждое улучшение срабатывало.  \n",
    "Если хочешь, можешь здесь вести небольшой дневник - какие эксперименты ты проводил, какие у тебя были гипотезы и какие у тебя получались результаты"
   ]
  },
  {
   "cell_type": "code",
   "execution_count": null,
   "metadata": {},
   "outputs": [],
   "source": []
  },
  {
   "cell_type": "markdown",
   "metadata": {},
   "source": [
    "## 4. Немного подсказок"
   ]
  },
  {
   "cell_type": "markdown",
   "metadata": {},
   "source": [
    "* Напишите сначала какой-нибудь базовый алгоритм, который будет вашим бейзлайном. Затем вы будете его постепенно улучшать\n",
    "* После этого тестируйте каждое улучшение (одно улучшние - один эксперимент), чтобы не добавить в алгоритм то, что на самом деле ухушает алгоритм\n",
    "* Не стесняйтесь проводить всякие эксперименты вне кода. Например, можно самостоятельно построить пример рельефа ошибки при сопоставлении, смотреть, насколько близки вектора у соседних блоков, исследовать стабильность векторов блоков по времени. Это позволит каждому улучшению работать максимально эффективно.\n",
    "* **Openmp** Это очень хороший (и простой) способ распараллелить свой алгоритм. Лучше всего это делать в последний момент  "
   ]
  }
 ],
 "metadata": {
  "kernelspec": {
   "display_name": "Python 3",
   "language": "python",
   "name": "python3"
  },
  "language_info": {
   "codemirror_mode": {
    "name": "ipython",
    "version": 3
   },
   "file_extension": ".py",
   "mimetype": "text/x-python",
   "name": "python",
   "nbconvert_exporter": "python",
   "pygments_lexer": "ipython3",
   "version": "3.6.8"
  }
 },
 "nbformat": 4,
 "nbformat_minor": 2
}
